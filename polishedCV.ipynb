{
 "cells": [
  {
   "cell_type": "code",
   "execution_count": 1,
   "id": "900b62c3-b30d-486c-9ebc-dd322864d0ab",
   "metadata": {},
   "outputs": [],
   "source": [
    "import cv2\n",
    "import mediapipe as mp\n",
    "import numpy as np\n",
    "import os \n",
    "import time \n",
    "\n",
    "#cv2, mediapipe, and numpy are the libraries used for the camera \n",
    "\n",
    "mp_drawing = mp.solutions.drawing_utils #gives us drawing capabilities\n",
    "mp_pose = mp.solutions.pose #pose library "
   ]
  },
  {
   "cell_type": "code",
   "execution_count": 2,
   "id": "13a16b93-992a-46c1-b3e9-8ac19cd248c5",
   "metadata": {},
   "outputs": [],
   "source": [
    "from gtts import gTTS\n",
    "from IPython.display import Audio\n",
    "\n",
    "def text_to_speech(text, lang='en'):\n",
    "    \"\"\"\n",
    "    Convert text to speech and play it immediately.\n",
    "    \n",
    "    Parameters:\n",
    "        text (str): The text to convert to speech.\n",
    "        lang (str): The language of the text. Default is English ('en').\n",
    "    \"\"\"\n",
    "    # Convert the text to speech\n",
    "    tts = gTTS(text=text, lang=lang, slow=False)\n",
    "    \n",
    "    # Save the speech to an MP3 file\n",
    "    filename = \"temp_speech.mp3\"\n",
    "    tts.save(filename)\n",
    "    \n",
    "    # Play the converted file automatically\n",
    "    audio = Audio(filename, autoplay=True)\n",
    "    display(audio)\n",
    "    \n",
    "    # Optional: remove the file after playing\n",
    "    os.remove(filename)\n"
   ]
  },
  {
   "cell_type": "code",
   "execution_count": 3,
   "id": "d4f1619e-3255-49bc-89ab-036fb30a983e",
   "metadata": {},
   "outputs": [],
   "source": [
    "def calculate_angle(a,b,c):\n",
    "    a = np.array(a)\n",
    "    b = np.array(b)\n",
    "    c = np.array(c)\n",
    "\n",
    "    radians = np.arctan2(c[1]-b[1], c[0]-b[0]) - np.arctan2(a[1]-b[1], a[0]-b[0])\n",
    "    angle = np.abs(radians*180.0/np.pi)\n",
    "\n",
    "    if angle > 180.0:\n",
    "        angle = 360-angle \n",
    "\n",
    "    return angle"
   ]
  },
  {
   "cell_type": "code",
   "execution_count": 4,
   "id": "964d63ba-fb07-4846-8733-2e4f25c0e0b0",
   "metadata": {},
   "outputs": [],
   "source": [
    "def calculate_back_angle(z,g):\n",
    "    # Vector from right hip to right shoulder\n",
    "    vec_back = np.array([g[0] - z[0], g[1] - z[1]])\n",
    "    #h.s\n",
    "    #s,h\n",
    "    #z,g \n",
    "    \n",
    "    # Calculate the angle of the back with respect to the vertical axis (negative y-axis)\n",
    "    angle_back = np.arctan2(vec_back[1], vec_back[0]) * 180 / np.pi\n",
    "    \n",
    "    # Calculate the angle between the back and the vertical axis\n",
    "    angle_vertical_axis = 90 - angle_back\n",
    "    \n",
    "    return angle_back, angle_vertical_axis\n"
   ]
  },
  {
   "cell_type": "code",
   "execution_count": 5,
   "id": "d21c68ec-b8f3-4a6e-8770-78fe692d0ecf",
   "metadata": {},
   "outputs": [],
   "source": [
    "last_advice_time = 0  \n",
    "advice_cooldown = 2.5"
   ]
  },
  {
   "cell_type": "code",
   "execution_count": 18,
   "id": "e91166d1-f492-4b10-9aeb-6de8e0833eeb",
   "metadata": {},
   "outputs": [
    {
     "name": "stdout",
     "output_type": "stream",
     "text": [
      "'NoneType' object has no attribute 'landmark'\n",
      "'NoneType' object has no attribute 'landmark'\n",
      "'NoneType' object has no attribute 'landmark'\n",
      "'NoneType' object has no attribute 'landmark'\n",
      "'NoneType' object has no attribute 'landmark'\n",
      "'NoneType' object has no attribute 'landmark'\n",
      "'NoneType' object has no attribute 'landmark'\n",
      "'NoneType' object has no attribute 'landmark'\n",
      "'NoneType' object has no attribute 'landmark'\n",
      "'NoneType' object has no attribute 'landmark'\n",
      "'NoneType' object has no attribute 'landmark'\n",
      "'NoneType' object has no attribute 'landmark'\n",
      "1\n"
     ]
    },
    {
     "data": {
      "text/html": [
       "\n",
       "                <audio  controls=\"controls\" autoplay=\"autoplay\">\n",
       "                    <source src=\"data:audio/mpeg;base64,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\" type=\"audio/mpeg\" />\n",
       "                    Your browser does not support the audio element.\n",
       "                </audio>\n",
       "              "
      ],
      "text/plain": [
       "<IPython.lib.display.Audio object>"
      ]
     },
     "metadata": {},
     "output_type": "display_data"
    },
    {
     "name": "stdout",
     "output_type": "stream",
     "text": [
      "'NoneType' object has no attribute 'landmark'\n",
      "'NoneType' object has no attribute 'landmark'\n",
      "'NoneType' object has no attribute 'landmark'\n",
      "'NoneType' object has no attribute 'landmark'\n",
      "'NoneType' object has no attribute 'landmark'\n",
      "'NoneType' object has no attribute 'landmark'\n",
      "'NoneType' object has no attribute 'landmark'\n",
      "'NoneType' object has no attribute 'landmark'\n",
      "'NoneType' object has no attribute 'landmark'\n",
      "'NoneType' object has no attribute 'landmark'\n",
      "'NoneType' object has no attribute 'landmark'\n",
      "2\n"
     ]
    },
    {
     "data": {
      "text/html": [
       "\n",
       "                <audio  controls=\"controls\" autoplay=\"autoplay\">\n",
       "                    <source src=\"data:audio/mpeg;base64,//NExAAAAANIAUAAAMnEAUD2yCRZy4aJq4vmK/n452/yZBMgYv7f7OX+34uIc///5xcgfEhwwc6//4pujePCYfAkeJFRBQX///f53/QhBBgDFhAQUHAhBQdjUi3ZUQ0i//NExFMSoyJ0AZAoAY9t1qyX4nf/0yKuuXnXUlPdexr7///38bWnZdD+Oerhr3xzzLt72Q6UnzL0TNFdW9yJ/tlGj2wgmkvJ9InaCJPUOKNHQmaHGQ2LJbjVdtUw4TyA//NExFsgqx6AAcdYAR2EZ5vZqXF54dhIIEjjoNTwJZDD4OhABwRlyaPag2DtD4NAJZUYrqoX+6//7//XL+XKsv/7eX///43/x2z76lzKnub3RUymp9VtT5u2MY+TdiVt//NExCsW4xqYAAhWvdGEYs0OKGkMk3Yb2xxfnBsN2m5WscTLiAWNViaO8wHePALjUUj2Po/B9XLyWQxefroEb/2f//Iv/ns7rr///hl//////mf+v/ZxPXL3RtiV/tS7//NExCIXsyKkAChWvKdaDFXQjb7N2MPqupxskccoaLHVqNTGiaRyeQZkmUEwdhNJCw9DoAnURHQVjkhBBj2IgJ5LOrjtg2KC9OoYP///y//6njy3///r////vm//n6pq//NExBYTmxasAAhOuczO9ZE5WZkc4005tj2HjTzRQ5o+pw+ecTVx9So+XUJxJIhlBqRFwLQwD8LAXEYuNVEZRUKB0CrBNQv/yt///TO8gghClZTve21nO7Hf/////z////NExBoVoxqsABCMvf/+f58b9v9+NrNbvc/W+7sM+NW7enlKLjK0Ykg/b4eh29IrUb8neiiFptB6oPBUWJjSWBcyiUs4XCmFUKU8PI75qsrGpp+ZURcqRooKgZxIy2Hu//NExBYUspakADlEuaxlRy1Idjt//////16keazlI6sFdyHI4J2KFQx2qJMFGChhSlNKY28yPQxjFaFL0klioqnzk1GzZQUFBZELEhmCqcSo2Ukmar1o1t65gQMwq4Cw//NExBYRWh50AVAQAGcKAgIUS4U4ksy0l6sb//////UrJ5ejylKZSHaolLq3hiICJB06Vdp/O1upF1u9CiqfobKkQYdU3lIPk/3Ps/O2Fpmx9ItEvEzC4ImCKZKGqKAA//NExCMayypcAZloAHMLuOcTCpN7LTTjgLg9yXN/2ounJQ0PF9N9d0qqq1S4XDxfTc061f6lmbmhoam5ubIMpdv/Ztu/Wt3tb///6/+/oIa6DOPA81Va0wsafYYGS5he//NExAoU2d6YAY+QAJkiRQ+EHNwvRKikTBsDYOALQG2gs0RyUCJmBogPgSmXzMUERIxb5ofQSZV7/oI6C2U9v+7fb2+n7VucQNOpOs9////d7kgmd/LqcyPVH3W0YwSh//NExAkSSJaIAdkwAKlEWwAQZMGaFh1LNZiTiQhVRLtWx+IKhLoZx2xqwIOEver06gVGg6FDwmF2rIro0d3iw3knvPKJEt/////9nZRVgqX4xGZXQeIHAYZQkrGBokZy//NExBIT+S6IAN7EcMRjf2DocaAH/Q4EgcYA5A5FQ2eV5pwLhoOC5PG6OYj0svGM5XP/0Dv1BN6N6vZyCyHJTLn5QMBgFj9B+shQmaPGtBpUGjHieVYS+Eq6IOQiSn5k//NExBUW+Z6YAN6ElegIgkhhm+IL7kXYAEZE2GY4hAQAmW0fpjwPhvvzM/3/1jh/Px78Kd/Az8KYQcAVhIG6UcnoHOTcgMwhzHCE3QxdKIUluRP1nLX/xux3RFf/sUCu//NExAwUmZKsAMaKlRMeXSl/ndCwc1E0HS38nqWMCEEZBqvmSV5iHXna/r/1Wp+/re8sP1KhOVF9D9SjgAHSmEjnelSE7MrmQSUgv4ql98/tHgYq61FkB1xY0FGcfQPU//NExAwREZK0AJ6ElEHszuUNLxOSFZvU5YhoArEa36nL+DwrKgTf6xq6///XefVvQ79Qp3pDB3pUKh/k+YiaBb550l3aKvWNYACA+zOdQgAikv1YY40Uz5wSUnnu9YRn//NExBoSWS60AJZacCZJSqtWsaXyALYIyXC+fHePMeqHMy+j1qUj0079BbJaZos1SBBp5b/MYaKRDdf9VTFuWQJ7ak5wOECPO6wG0p0cwA2etFo10Ro2BQzJt1JKFyDJ//NExCMSIVqsAJ6ElL41hGW5ixCxvlfJ9O/w4n4R/CP0UI1STAO9BuCWjUexaoDaO/F1T8ugH4NVopEVAJY8rTWIeeYUkNUF+rt+9KwQK+8blvPgFNUsfOAawJaUEDBZ//NExC0R6TqsAJ5acHAjJ15Q9SZZrqN38rNaVnJXL607feX1hv57Sqnf1EBAMXDqYOmnOIxj2XUtoK8tdIL6AboHvWq84sNCs8MrM9j+vuROHZbr6sjiEh/Jyhje4Uuq//NExDgSYU6oAM4ElCG1r9kAjOCMFSXc3LfX5Ke+ulcvtH2+EZADTFiisdahf0yrz0LME4BRR+XQlG5xGnQ9Lmqaiqi1IVJsxQphY2zWpHwRJVjQoaiJdjvti4Ih2VX///NExEESKLqAAM5STNZX//////9dPYZHCypgsAMCSIDJjVRVAvyawZ4hgm4EE8RunjDJEaUNxzBkDHD/IUraARhQEBFHi5tCRR69qNhgSq0vSbuKroVoFIpT7Gf+5Nda//NExEsSqLJQANPGTBwNK2Qq+LwiOMEMXYjZgBBG584qORQN8N48ispkBqCU0eKLBwWGrFHBGK0hFAujso/HCxkbd9iAuKmhYmgWT5Mb//6kqakxIUzAYALtIzCQoOqO//NExFMRgJJsANPGTFBUVTTWU1o64BVnRXjDSjrywzd1flQ7jClaCj1INaMDKQ6xQdytp1sjVdsUieaV/yNzQESR/8f//z09GTOyhJ8hA4hvaB7j5MwXCpiluymUzUvj//NExGASOJpQAOYGTDGofwrZGiAYWanyj2OUFnANAq0mkTh6L0qQxChAjlPso62k6Lv/xTzjuGPGODJ+xCrTlw26hCRRaxTWUUEALo79+MA5km6ZfcSUsHP49zdMuByh//NExGoRyFJIAVoYAOxeNvlw0mZvYkxWJv6Ju7oIHRjEIuF4d38c5Lpmmo6cH8li8PYx/5gaF83TQLhobqH1EpHQ5xSOGH/6DGZfN+X3l8kyAUSIPhdNic5OLiH//m78//NExHUh+yqYAZhoAN05mbugghkskgonLMC4Ykkmxs3KHaKVFU8a4yGAUxX5eQ6nAovmOBoSZowhoMEM0qRxsC3Yte6sAxysGilfZrDbBY6btRPISr3JPkZA9O37i/Tf//NExEAe4bqYAdp4AK1xBxi22P++8z6xh4eM02aTf01TOfil9elNf2pb6zEp95nukJAADER6zcKtGGnu4lAKtCPyR2mCtKHZhav6ulVA1OtIn6KgASWWX6ys4LkxGK8n//NExBcX0UqsAMYMlILvhf3I6rp1dVKFOerrOgVsnrdx60N2m2eRqWI5Rb+xn3ngSX5iGv2IVu5MtykNbMIEgsJmoHweegeNEwot6wmZWaP/////+lXLv4qpE4792mdI//NExAoTeWKwAMYOlI/z2NZhIuxvdUCbZ1VC62coKCyDLOhSosfyVF94TUqKLlDZDrft0tcxCtonXoZTGEWgypzipp+W8vpetjAEeumk21tUpf/kjJyrcpnBGaHnT9in//NExA8V2YqoAM5KlBQIFWwmjlTEQ/1+b9V2wNXUxl8uQ/ordyqSQTmdyOqjnO9rQNZ7QVH6Cr6nFfFWuoMlRcGyR7dvZ+NaKmZFhpFtwVG//////VVnuToLExZKgTkN//NExAoRWMq4AJYecKjXKUEBs5VZmV7JA5ZwQwVWK3cfxdjfW5st4CWBKs3ThffrcOFXWbyPKEVBF0lnmgIgAzpRtTqXij/DSt63JApR5uUMQEFHzpZoUEDgzFuOBcYt//NExBcSmNKwAMYecVkM1OEpGvUdJLy+cJ+A00xXnNWiOAFiWVVnil1X5i51SA/Mr+v277djenIoIzw98C+lP5Wt/zYO3Yz0pQEZnJt9ya8GTzcDAxFFpscTQBslhijn//NExB8SYL6wAMYeTQsgMR1IscZHO21SAsx5qFdOKOxuzqLpAljiI9KlX30zb/YR0UztK3/xn6WW53En1grvvGYzSG4yAxGW9qWFUDJbkEJUP/NUj+I+wzTv4qq/M5UO//NExCgSoMawAMYecUJdGskRCi5NRyITW9H8WgDbMUyU0r229vAycQF7/P9/xbF1tYXRla9bGY6NiPY6KkOFuU4EMD6yF/C+dxoZ5nS2KRFKJmy7eoEBGGkRUaNhwAgz//NExDASiMawAMPScIQGGkwcB0XIhweqKpewBic8GFmWHH7ltc70qpZy+YDwPOL7TajeaE8HtVMgMxBMtAaKtdLA/o7efzM9U6eZrMHtWOD5rla2MXiQani9bDtLZHXB//NExDgSKOKkAMPYcYbk/9FMaKk4VYrVpr//LuK9prujDmdefGTwhlnYUIOKdGlnHGBZvUTw+sMgdUbSGxcQ1ZHzHi9cROgoGmnBkqiKAVKkPuF/JsoPXrbqEINDj1H+//NExEIRWOqYAMvScDhKnUpqNI8Jit7Lm5BaCcYUu8AnjmlS7qmJdUMJLsYel0acpIPOtEvwlMC63Eda6pytfC3NAWyy8yn12XVLln3y3z79LB0NnW/+v+uUy+UCOYYm//NExE8SAS6EANYMcL2AqycgHrPJAY3YdjkQdoOr2gVLL+qHuFhlDeHYhFspiM4qMvPfThJRhiS7RdykvhIkdmzHb/detafBoyQl///e5VVVe0+oFkRIHrmGDZuQgrYI//NExFoSST54AN4McMEM1JB4EcUJCc8Aux54VqkaLWj7s123vW46MdJxzKKfvOu8fWRMx2fP/8bvvy5PXn//+qt+HlHQA1zEHhZ6xEbG5E6oHZIWsDFL1gHHH58EVuUP//NExGMRAT6AANvMcPibrCz4Fr+Wo1GYq4lPmCy3IWOMtzbKMaJaO6viaJaHCEbX/5b5pVBb6kJOF7YEOpZS6DaED8EIbtlQIM0N0m8jnIU5zFuZ24uY8JaLllxn4i47//NExHISaUJ0ANvQcO8qm9owMsk/m9JlWKniwqsXQOanU/kPt3XSwVBZX/yYSdaHEscFqhUHlTETuEYiKmUAE8CG5IkRhBm5kTEagS0aBZZWlSISRLxsZtQZNw9Vz3x///NExHsTkTZwANvScLhEIHHLrBn/Nf2+KEExjZPd/6fMLw5Yda//oUzI6TofRV2hc436j52B4xdkGnGiE2y+S8LkAaHEdSsdiLelxBHWC63Oa/F3/vr5TkQkiaSp/To4//NExH8TKTZoANvMcOdslEgKRUDT4cwaPf/g1kUczSeSyoVwcSHN8zykVVVowlE8ckwT+ama6OrGBEs/+RoK3Jv6bijFVRxQN6EJWmdwNof5ZrnoTF3rOnU0qfqT/WoI//NExIUQcO5gAMsMcAl4Qp82rL6G929iy2m5ygFZQ4jG5631RrPZ0MBl4zHMKREFiQlGwbMgIKyICJlmkpZZlIBCuWnl5YKmQEt2xGtUOxd26JaCwt1VI4gIB/JXNwkH//NExJYQWRoIAHjGcMAQMWjRo0hQ4gJIoxaF8QnhOaPEKuejwQA3xxw/nwxg+IAGfL2E2Mf5Qa/Of0qdyBP9atdRQv/YckyCAPhSwbqIQ8lofwaQM0OoupYe9XRcmM0S//NExKcSmNoAAHmGcGOgFPBY0hSbIlyVJpVxE9ZFNCzUlmixMuKXIt/pq2al41GltVyXSZSRWhypSjZqJDGrrGvrFLDMFEsfY1Uo22TGucqxjqopexhSYv/6VJqQY1LN//NExK8Q6MHcAGJGTEmPMKYCjKjBSWGsNQxgTiY4kMKCtQc4ma0PgHILAkRJxDy8HeJuS9yPwnCEQwwKCRcn3J7DCMn1QgFERQKEERWTyggR0xdQumFEGdcVvUYRvQIM//NExL4f6x3YAHpGvMGBscppRaI7wAG6BiwYt3gAppCeCKdA1A3phBFOIoubwkrzgATkiBxfwAZLEc0pcIDNNBYQRooGZSuivC3MIWQcXHhwhZUYgXOBaTyEwO6EOxIE//NExJEg0vXQAHpGubSE1eAMBE4KjkeZhHMYPIKU4xkuXexTR1Yj8qXYrILSqaU0uRXI5mUpjOErETpY8rChhaA4rETo8rKbo8srEThBMZc3FgAFkuozV/jSAEJBYBio//NExGAYMinsAGDGmBEJi2IpWPyyDJhIKYPCSR6jwVARKEwyEgKzJP4//FQEKmRY0KGlpGEQkSAooawKLEjSxRpo0FST5UKB4f9AoaZ//GEgoaFTIspMQU1FTEFNRTMu//NExFIR2EHQAGGMJDEwMKqqqqqqqqqqqqqqqqqqqqqqqqqqqqqqqqqqqqqqqqqqqqqqqqqqqqqqqqqqqqqqqqqqqqqqqqqqqqqqqqqqqqqqqqqqqqqqqqqqTEFNRTMu//NExF0AAANIAAAAADEwMKqqqqqqqqqqqqqqqqqqqqqqqqqqqqqqqqqqqqqqqqqqqqqqqqqqqqqqqqqqqqqqqqqqqqqqqqqqqqqqqqqqqqqqqqqqqqqqqqqqTEFNRTMu//NExKwAAANIAAAAADEwMKqqqqqqqqqqqqqqqqqqqqqqqqqqqqqqqqqqqqqqqqqqqqqqqqqqqqqqqqqqqqqqqqqqqqqqqqqqqqqqqqqqqqqqqqqqqqqqqqqqqqqqqqqq//NExKwAAANIAAAAAKqqqqqqqqqqqqqqqqqqqqqqqqqqqqqqqqqqqqqqqqqqqqqqqqqqqqqqqqqqqqqqqqqqqqqqqqqqqqqqqqqqqqqqqqqqqqqqqqqqqqqqqqqqqqqq//NExKwAAANIAAAAAKqqqqqqqqqqqqqqqqqqqqqqqqqqqqqqqqqqqqqqqqqqqqqqqqqqqqqqqqqqqqqqqqqqqqqqqqqqqqqqqqqqqqqqqqqqqqqqqqqqqqqqqqqqqqqq\" type=\"audio/mpeg\" />\n",
       "                    Your browser does not support the audio element.\n",
       "                </audio>\n",
       "              "
      ],
      "text/plain": [
       "<IPython.lib.display.Audio object>"
      ]
     },
     "metadata": {},
     "output_type": "display_data"
    },
    {
     "data": {
      "text/html": [
       "\n",
       "                <audio  controls=\"controls\" autoplay=\"autoplay\">\n",
       "                    <source src=\"data:audio/mpeg;base64,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\" type=\"audio/mpeg\" />\n",
       "                    Your browser does not support the audio element.\n",
       "                </audio>\n",
       "              "
      ],
      "text/plain": [
       "<IPython.lib.display.Audio object>"
      ]
     },
     "metadata": {},
     "output_type": "display_data"
    },
    {
     "name": "stdout",
     "output_type": "stream",
     "text": [
      "3\n"
     ]
    },
    {
     "data": {
      "text/html": [
       "\n",
       "                <audio  controls=\"controls\" autoplay=\"autoplay\">\n",
       "                    <source src=\"data:audio/mpeg;base64,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\" type=\"audio/mpeg\" />\n",
       "                    Your browser does not support the audio element.\n",
       "                </audio>\n",
       "              "
      ],
      "text/plain": [
       "<IPython.lib.display.Audio object>"
      ]
     },
     "metadata": {},
     "output_type": "display_data"
    },
    {
     "name": "stdout",
     "output_type": "stream",
     "text": [
      "'NoneType' object has no attribute 'landmark'\n",
      "4\n"
     ]
    },
    {
     "data": {
      "text/html": [
       "\n",
       "                <audio  controls=\"controls\" autoplay=\"autoplay\">\n",
       "                    <source src=\"data:audio/mpeg;base64,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\" type=\"audio/mpeg\" />\n",
       "                    Your browser does not support the audio element.\n",
       "                </audio>\n",
       "              "
      ],
      "text/plain": [
       "<IPython.lib.display.Audio object>"
      ]
     },
     "metadata": {},
     "output_type": "display_data"
    },
    {
     "name": "stdout",
     "output_type": "stream",
     "text": [
      "'NoneType' object has no attribute 'landmark'\n",
      "'NoneType' object has no attribute 'landmark'\n",
      "'NoneType' object has no attribute 'landmark'\n",
      "'NoneType' object has no attribute 'landmark'\n",
      "'NoneType' object has no attribute 'landmark'\n",
      "'NoneType' object has no attribute 'landmark'\n",
      "'NoneType' object has no attribute 'landmark'\n",
      "'NoneType' object has no attribute 'landmark'\n",
      "'NoneType' object has no attribute 'landmark'\n",
      "'NoneType' object has no attribute 'landmark'\n",
      "'NoneType' object has no attribute 'landmark'\n",
      "'NoneType' object has no attribute 'landmark'\n",
      "'NoneType' object has no attribute 'landmark'\n",
      "'NoneType' object has no attribute 'landmark'\n",
      "'NoneType' object has no attribute 'landmark'\n",
      "'NoneType' object has no attribute 'landmark'\n",
      "'NoneType' object has no attribute 'landmark'\n",
      "'NoneType' object has no attribute 'landmark'\n",
      "'NoneType' object has no attribute 'landmark'\n",
      "'NoneType' object has no attribute 'landmark'\n",
      "'NoneType' object has no attribute 'landmark'\n",
      "'NoneType' object has no attribute 'landmark'\n",
      "'NoneType' object has no attribute 'landmark'\n",
      "'NoneType' object has no attribute 'landmark'\n",
      "'NoneType' object has no attribute 'landmark'\n",
      "'NoneType' object has no attribute 'landmark'\n",
      "'NoneType' object has no attribute 'landmark'\n",
      "'NoneType' object has no attribute 'landmark'\n",
      "'NoneType' object has no attribute 'landmark'\n",
      "'NoneType' object has no attribute 'landmark'\n",
      "'NoneType' object has no attribute 'landmark'\n",
      "'NoneType' object has no attribute 'landmark'\n",
      "'NoneType' object has no attribute 'landmark'\n",
      "'NoneType' object has no attribute 'landmark'\n",
      "'NoneType' object has no attribute 'landmark'\n",
      "'NoneType' object has no attribute 'landmark'\n",
      "'NoneType' object has no attribute 'landmark'\n"
     ]
    }
   ],
   "source": [
    "cap = cv2.VideoCapture(0)\n",
    "\n",
    "counter = 0\n",
    "stage = None\n",
    "\n",
    "# Initialize pose detection\n",
    "with mp_pose.Pose(min_detection_confidence=0.5, min_tracking_confidence=0.5) as pose:\n",
    "    last_advice_time=0\n",
    "    while cap.isOpened():\n",
    "        ret, frame = cap.read()\n",
    "\n",
    "        # Resize the frame to the new size\n",
    "        frame = cv2.resize(frame, (800, 600))\n",
    "\n",
    "        # Convert the BGR image to RGB\n",
    "        image = cv2.cvtColor(frame, cv2.COLOR_BGR2RGB)\n",
    "        image.flags.writeable = False\n",
    "\n",
    "        # Make detections\n",
    "        results = pose.process(image)\n",
    "\n",
    "        # Recolor back to BGR for rendering, as opencv requires BGR\n",
    "        image.flags.writeable = True\n",
    "        image = cv2.cvtColor(image, cv2.COLOR_RGB2BGR)\n",
    "\n",
    "        # Extract landmarks \n",
    "        try:\n",
    "            landmarks = results.pose_landmarks.landmark\n",
    "            shoulder = [landmarks[mp_pose.PoseLandmark.LEFT_SHOULDER.value].x,landmarks[mp_pose.PoseLandmark.LEFT_SHOULDER.value].y]\n",
    "            elbow = [landmarks[mp_pose.PoseLandmark.LEFT_ELBOW.value].x,landmarks[mp_pose.PoseLandmark.LEFT_ELBOW.value].y]\n",
    "            wrist = [landmarks[mp_pose.PoseLandmark.LEFT_WRIST.value].x,landmarks[mp_pose.PoseLandmark.LEFT_WRIST.value].y]\n",
    "\n",
    "            shoulder2 = [landmarks[mp_pose.PoseLandmark.RIGHT_SHOULDER.value].x,landmarks[mp_pose.PoseLandmark.RIGHT_SHOULDER.value].y]\n",
    "            elbow2 = [landmarks[mp_pose.PoseLandmark.RIGHT_ELBOW.value].x,landmarks[mp_pose.PoseLandmark.RIGHT_ELBOW.value].y]\n",
    "            wrist2 = [landmarks[mp_pose.PoseLandmark.RIGHT_WRIST.value].x,landmarks[mp_pose.PoseLandmark.RIGHT_WRIST.value].y]\n",
    "\n",
    "            l_hip = [landmarks[mp_pose.PoseLandmark.LEFT_HIP.value].x,landmarks[mp_pose.PoseLandmark.LEFT_HIP.value].y]\n",
    "            l_knee = [landmarks[mp_pose.PoseLandmark.LEFT_KNEE.value].x,landmarks[mp_pose.PoseLandmark.LEFT_KNEE.value].y]\n",
    "            l_ankle = [landmarks[mp_pose.PoseLandmark.LEFT_ANKLE.value].x,landmarks[mp_pose.PoseLandmark.LEFT_ANKLE.value].y]\n",
    "\n",
    "            r_hip = [landmarks[mp_pose.PoseLandmark.RIGHT_HIP.value].x,landmarks[mp_pose.PoseLandmark.RIGHT_HIP.value].y]\n",
    "            r_knee = [landmarks[mp_pose.PoseLandmark.RIGHT_KNEE.value].x,landmarks[mp_pose.PoseLandmark.RIGHT_KNEE.value].y]\n",
    "            r_ankle = [landmarks[mp_pose.PoseLandmark.RIGHT_ANKLE.value].x,landmarks[mp_pose.PoseLandmark.RIGHT_ANKLE.value].y]\n",
    "\n",
    "    \n",
    "\n",
    "            angle = calculate_angle(shoulder, elbow, wrist)\n",
    "\n",
    "            angle_l2 = calculate_angle(l_hip, l_knee, l_ankle)  # Corrected typo from 'l_akle' to 'l_ankle'\n",
    "\n",
    "            angle2 = calculate_angle(shoulder2, elbow2, wrist2)\n",
    "\n",
    "            angle_r2 = calculate_angle(r_hip, r_knee, r_ankle)\n",
    "\n",
    "            back = calculate_back_angle(r_hip, shoulder2)\n",
    "\n",
    "\n",
    "\n",
    "            elbow_screen = tuple(np.multiply(elbow, [800, 600]).astype(int))  # Changed resolution to match resized frame\n",
    "\n",
    "            elbow_screen2 = tuple(np.multiply(elbow2, [800, 600]).astype(int))  # Changed resolution to match resized frame\n",
    "\n",
    "            knee_left = tuple(np.multiply(l_knee, [800, 600]).astype(int))  # Changed resolution to match resized frame\n",
    "\n",
    "            knee_right = tuple(np.multiply(r_knee, [800, 600]).astype(int))  # Changed resolution to match resized frame\n",
    "\n",
    "            back_screen = tuple(np.multiply(back, [800, 600]).astype(int))\n",
    "\n",
    "\n",
    "\n",
    "\n",
    "            cv2.putText(image, str(angle), \n",
    "                        elbow_screen, \n",
    "                        cv2.FONT_HERSHEY_SIMPLEX, \n",
    "                        0.5, \n",
    "                        (255, 255, 255), \n",
    "                        2, \n",
    "                        cv2.LINE_AA)\n",
    "\n",
    "            cv2.putText(image, str(angle), \n",
    "                        back_screen, \n",
    "                        cv2.FONT_HERSHEY_SIMPLEX, \n",
    "                        0.5, \n",
    "                        (255, 255, 255), \n",
    "                        2, \n",
    "                        cv2.LINE_AA)\n",
    "\n",
    "            cv2.putText(image, str(angle2), \n",
    "                        elbow_screen2, \n",
    "                        cv2.FONT_HERSHEY_SIMPLEX, \n",
    "                        0.5, \n",
    "                        (255, 255, 255), \n",
    "                        2, \n",
    "                        cv2.LINE_AA)\n",
    "\n",
    "            cv2.putText(image, str(angle_l2), \n",
    "                        knee_left, \n",
    "                        cv2.FONT_HERSHEY_SIMPLEX, \n",
    "                        0.5, \n",
    "                        (255, 255, 255), \n",
    "                        2, \n",
    "                        cv2.LINE_AA)\n",
    "\n",
    "            cv2.putText(image, str(angle_r2), \n",
    "                        knee_right, \n",
    "                        cv2.FONT_HERSHEY_SIMPLEX, \n",
    "                        0.5, \n",
    "                        (255, 255, 255), \n",
    "                        2, \n",
    "                        cv2.LINE_AA)\n",
    "\n",
    "            \n",
    "            \n",
    "        \n",
    "\n",
    "                           # Inside the loop where you check squat conditions:\n",
    "            current_time = time.time()  # Always update the current time at the start of the loop\n",
    "            \n",
    "            # Detect when the user starts going down\n",
    "            if angle_r2 > 170 and stage != \"down\":\n",
    "                stage = \"down\"\n",
    "                tts_lower_triggered = False  # Reset advice flag when starting a new squat\n",
    "            \n",
    "            # Check if user is not low enough in the squat\n",
    "            elif 90 < angle_r2 <= 130 and stage == \"down\" and not tts_lower_triggered:\n",
    "                text_to_speech('squat is good, but go lower with your legs, if you cannot, maybe decrease weight')\n",
    "                tts_lower_triggered = True  # Prevent repeating advice in the same squat\n",
    "            \n",
    "            # Detect when the user comes up from a squat\n",
    "            elif angle_r2 <= 90:\n",
    "                if stage == \"down\":  # Only count as a completed squat if the user was down before\n",
    "                    counter += 1\n",
    "                    print(counter)\n",
    "                    text_to_speech('squat done!')\n",
    "                stage = \"up\"\n",
    "        \n",
    "        \n",
    "        except Exception as e:\n",
    "            print(e)  # This will help to understand what goes wrong in the try block\n",
    "\n",
    "        # Render and draw landmarks into the image\n",
    "        mp_drawing.draw_landmarks(image, results.pose_landmarks, mp_pose.POSE_CONNECTIONS, \n",
    "                                 mp_drawing.DrawingSpec(color=(245,117,66), thickness=2, circle_radius=2),\n",
    "                                 mp_drawing.DrawingSpec(color=(245,66,230), thickness=2, circle_radius=2)\n",
    "                                 )\n",
    "                                \n",
    "        cv2.imshow('Mediapipe Feed', image)\n",
    "\n",
    "        # Break the loop when 'q' is pressed\n",
    "        if cv2.waitKey(50) & 0xFF == ord('q'):\n",
    "            break\n",
    "\n",
    "# Release resources\n",
    "cap.release()\n",
    "cv2.destroyAllWindows()"
   ]
  },
  {
   "cell_type": "code",
   "execution_count": null,
   "id": "3eda5ab9-1019-410a-b8fc-62bd19f22d48",
   "metadata": {},
   "outputs": [],
   "source": []
  },
  {
   "cell_type": "code",
   "execution_count": null,
   "id": "97588270-9207-4e52-98d8-d049e9bc743b",
   "metadata": {},
   "outputs": [],
   "source": []
  }
 ],
 "metadata": {
  "kernelspec": {
   "display_name": "Python 3 (ipykernel)",
   "language": "python",
   "name": "python3"
  },
  "language_info": {
   "codemirror_mode": {
    "name": "ipython",
    "version": 3
   },
   "file_extension": ".py",
   "mimetype": "text/x-python",
   "name": "python",
   "nbconvert_exporter": "python",
   "pygments_lexer": "ipython3",
   "version": "3.10.11"
  }
 },
 "nbformat": 4,
 "nbformat_minor": 5
}
